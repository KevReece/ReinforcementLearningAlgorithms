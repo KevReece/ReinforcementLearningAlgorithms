{
 "cells": [
  {
   "cell_type": "code",
   "execution_count": 13,
   "metadata": {},
   "outputs": [],
   "source": [
    "from agents.AbstractAgent import AbstractAgent\n",
    "from environments.AbstractEnvironment import AbstractEnvironment\n",
    "from environments.OneDMazeEnvironment import OneDMazeEnvironment\n",
    "from environments.Runner import Runner\n",
    "\n",
    "\n",
    "def test_agent(agent: AbstractAgent, environment: AbstractEnvironment):\n",
    "    runner = Runner(agent)\n",
    "    runner.run(environment, n_episodes=10000, learn=True)\n",
    "    runner.run(environment, n_episodes=1, verbose=True, learn=False)\n",
    "    agent.print()\n",
    "    environment.reset()\n",
    "    \n",
    "# Single goal\n",
    "# environment = OneDMazeEnvironment(initial_agent_position=1, n_states=10, exits=[9], initial_state_rewards={9: 10})\n",
    "    \n",
    "# Duel goal\n",
    "environment = OneDMazeEnvironment(initial_agent_position=3, n_states=10, exits=[0,9], initial_state_rewards={0:1, 9:10})"
   ]
  },
  {
   "cell_type": "code",
   "execution_count": 14,
   "metadata": {},
   "outputs": [
    {
     "name": "stdout",
     "output_type": "stream",
     "text": [
      "Episode: 1\n",
      "Step: 1\n",
      "[E| |A| | | | | | |E]\n",
      "Step: 2\n",
      "[E| | |A| | | | | |E]\n",
      "Step: 3\n",
      "[E| |A| | | | | | |E]\n",
      "Step: 4\n",
      "[E|A| | | | | | | |E]\n",
      "Step: 5\n",
      "[A| | | | | | | | |E]\n",
      "State 0 -> [0, 0]\n",
      "State 1 -> [0.9999999999999996, 0.9980009999999986]\n",
      "State 2 -> [0.998999999999999, 0.997002998999998]\n",
      "State 3 -> [0.9980009999999986, 0.9960059960009975]\n",
      "State 4 -> [0.997002998999998, 0.9949797094846505]\n",
      "State 5 -> [0.9960028892330086, 0.46086458594368485]\n",
      "State 6 -> [0.09950035010203905, 1.4770837115665034]\n",
      "State 7 -> [0.08929343389344073, 3.7827636472205826]\n",
      "State 8 -> [0, 7.4581341716709995]\n",
      "State 9 -> [0, 0]\n"
     ]
    }
   ],
   "source": [
    "from agents.QLearningAgent import QLearningAgent\n",
    "\n",
    "\n",
    "test_agent(QLearningAgent(environment), environment)"
   ]
  },
  {
   "cell_type": "code",
   "execution_count": 15,
   "metadata": {},
   "outputs": [
    {
     "name": "stdout",
     "output_type": "stream",
     "text": [
      "Episode: 1\n",
      "Step: 1\n",
      "[E| | | |A| | | | |E]\n",
      "Step: 2\n",
      "[E| | | | |A| | | |E]\n",
      "Step: 3\n",
      "[E| | | |A| | | | |E]\n",
      "Step: 4\n",
      "[E| | | | |A| | | |E]\n",
      "Step: 5\n",
      "[E| | | |A| | | | |E]\n",
      "Step: 6\n",
      "[E| | | | |A| | | |E]\n",
      "Step: 7\n",
      "[E| | | | | |A| | |E]\n",
      "Step: 8\n",
      "[E| | | | |A| | | |E]\n",
      "Step: 9\n",
      "[E| | | | | |A| | |E]\n",
      "Step: 10\n",
      "[E| | | | |A| | | |E]\n",
      "Step: 11\n",
      "[E| | | | | |A| | |E]\n",
      "Step: 12\n",
      "[E| | | | |A| | | |E]\n",
      "Step: 13\n",
      "[E| | | | | |A| | |E]\n",
      "Step: 14\n",
      "[E| | | | | | |A| |E]\n",
      "Step: 15\n",
      "[E| | | | | |A| | |E]\n",
      "Step: 16\n",
      "[E| | | | |A| | | |E]\n",
      "Step: 17\n",
      "[E| | | |A| | | | |E]\n",
      "Step: 18\n",
      "[E| | | | |A| | | |E]\n",
      "Step: 19\n",
      "[E| | | |A| | | | |E]\n",
      "Step: 20\n",
      "[E| | | | |A| | | |E]\n",
      "Step: 21\n",
      "[E| | | | | |A| | |E]\n",
      "Step: 22\n",
      "[E| | | | | | |A| |E]\n",
      "Step: 23\n",
      "[E| | | | | | | |A|E]\n",
      "Step: 24\n",
      "[E| | | | | | |A| |E]\n",
      "Step: 25\n",
      "[E| | | | | |A| | |E]\n",
      "Step: 26\n",
      "[E| | | | |A| | | |E]\n",
      "Step: 27\n",
      "[E| | | | | |A| | |E]\n",
      "Step: 28\n",
      "[E| | | | |A| | | |E]\n",
      "Step: 29\n",
      "[E| | | |A| | | | |E]\n",
      "Step: 30\n",
      "[E| | | | |A| | | |E]\n",
      "Step: 31\n",
      "[E| | | | | |A| | |E]\n",
      "Step: 32\n",
      "[E| | | | |A| | | |E]\n",
      "Step: 33\n",
      "[E| | | |A| | | | |E]\n",
      "Step: 34\n",
      "[E| | |A| | | | | |E]\n",
      "Step: 35\n",
      "[E| | | |A| | | | |E]\n",
      "Step: 36\n",
      "[E| | |A| | | | | |E]\n",
      "Step: 37\n",
      "[E| | | |A| | | | |E]\n",
      "Step: 38\n",
      "[E| | |A| | | | | |E]\n",
      "Step: 39\n",
      "[E| |A| | | | | | |E]\n",
      "Step: 40\n",
      "[E| | |A| | | | | |E]\n",
      "Step: 41\n",
      "[E| | | |A| | | | |E]\n",
      "Step: 42\n",
      "[E| | |A| | | | | |E]\n",
      "Step: 43\n",
      "[E| |A| | | | | | |E]\n",
      "Step: 44\n",
      "[E|A| | | | | | | |E]\n",
      "Step: 45\n",
      "[E| |A| | | | | | |E]\n",
      "Step: 46\n",
      "[E| | |A| | | | | |E]\n",
      "Step: 47\n",
      "[E| | | |A| | | | |E]\n",
      "Step: 48\n",
      "[E| | | | |A| | | |E]\n",
      "Step: 49\n",
      "[E| | | |A| | | | |E]\n",
      "Step: 50\n",
      "[E| | | | |A| | | |E]\n",
      "Step: 51\n",
      "[E| | | | | |A| | |E]\n",
      "Step: 52\n",
      "[E| | | | | | |A| |E]\n",
      "Step: 53\n",
      "[E| | | | | |A| | |E]\n",
      "Step: 54\n",
      "[E| | | | | | |A| |E]\n",
      "Step: 55\n",
      "[E| | | | | |A| | |E]\n",
      "Step: 56\n",
      "[E| | | | | | |A| |E]\n",
      "Step: 57\n",
      "[E| | | | | | | |A|E]\n",
      "Step: 58\n",
      "[E| | | | | | | | |A]\n",
      "State 0 -> [0, 0]\n",
      "State 1 -> [0.9999999999999996, 9.930209650349724]\n",
      "State 2 -> [9.920279440699368, 9.940149800149882]\n",
      "State 3 -> [9.930209650349724, 9.950099900049942]\n",
      "State 4 -> [9.940149800149882, 9.96005996000996]\n",
      "State 5 -> [9.950099900049942, 9.970029989999968]\n",
      "State 6 -> [9.96005996000996, 9.980009999999975]\n",
      "State 7 -> [9.970029989999968, 9.989999999999984]\n",
      "State 8 -> [9.980009999999975, 9.999999999999993]\n",
      "State 9 -> [0, 0]\n",
      "State 0 -> [0, 0]\n",
      "State 1 -> [0.9999999999999996, 9.930209650349724]\n",
      "State 2 -> [9.920279440699368, 9.940149800149882]\n",
      "State 3 -> [9.930209650349724, 9.950099900049942]\n",
      "State 4 -> [9.940149800149882, 9.96005996000996]\n",
      "State 5 -> [9.950099900049942, 9.970029989999968]\n",
      "State 6 -> [9.96005996000996, 9.980009999999975]\n",
      "State 7 -> [9.970029989999968, 9.989999999999984]\n",
      "State 8 -> [9.980009999999975, 9.999999999999993]\n",
      "State 9 -> [0, 0]\n"
     ]
    }
   ],
   "source": [
    "from agents.DoubleQLearningAgent import DoubleQLearningAgent\n",
    "\n",
    "\n",
    "test_agent(DoubleQLearningAgent(environment), environment)"
   ]
  },
  {
   "cell_type": "code",
   "execution_count": 16,
   "metadata": {},
   "outputs": [
    {
     "name": "stdout",
     "output_type": "stream",
     "text": [
      "Episode: 1\n",
      "Step: 1\n",
      "[E| |A| | | | | | |E]\n",
      "Step: 2\n",
      "[E| | |A| | | | | |E]\n",
      "Step: 3\n",
      "[E| | | |A| | | | |E]\n",
      "Step: 4\n",
      "[E| | |A| | | | | |E]\n",
      "Step: 5\n",
      "[E| |A| | | | | | |E]\n",
      "Step: 6\n",
      "[E| | |A| | | | | |E]\n",
      "Step: 7\n",
      "[E| |A| | | | | | |E]\n",
      "Step: 8\n",
      "[E| | |A| | | | | |E]\n",
      "Step: 9\n",
      "[E| | | |A| | | | |E]\n",
      "Step: 10\n",
      "[E| | | | |A| | | |E]\n",
      "Step: 11\n",
      "[E| | | | | |A| | |E]\n",
      "Step: 12\n",
      "[E| | | | |A| | | |E]\n",
      "Step: 13\n",
      "[E| | | | | |A| | |E]\n",
      "Step: 14\n",
      "[E| | | | | | |A| |E]\n",
      "Step: 15\n",
      "[E| | | | | |A| | |E]\n",
      "Step: 16\n",
      "[E| | | | |A| | | |E]\n",
      "Step: 17\n",
      "[E| | | |A| | | | |E]\n",
      "Step: 18\n",
      "[E| | |A| | | | | |E]\n",
      "Step: 19\n",
      "[E| |A| | | | | | |E]\n",
      "Step: 20\n",
      "[E|A| | | | | | | |E]\n",
      "Step: 21\n",
      "[E| |A| | | | | | |E]\n",
      "Step: 22\n",
      "[E|A| | | | | | | |E]\n",
      "Step: 23\n",
      "[A| | | | | | | | |E]\n",
      "State 0 -> [0, 0]\n",
      "State 1 -> [0, 0.0]\n",
      "State 2 -> [0.0, 0.0]\n",
      "State 3 -> [0.0, 0.0]\n",
      "State 4 -> [0.0, 0.0]\n",
      "State 5 -> [0.0, 0.0]\n",
      "State 6 -> [0.0, 0.0]\n",
      "State 7 -> [0.0, 0.0]\n",
      "State 8 -> [0.0, 0]\n",
      "State 9 -> [0, 0]\n"
     ]
    }
   ],
   "source": [
    "from agents.SarsaAgent import SarsaAgent\n",
    "\n",
    "\n",
    "test_agent(SarsaAgent(environment), environment)"
   ]
  },
  {
   "cell_type": "code",
   "execution_count": 17,
   "metadata": {},
   "outputs": [
    {
     "name": "stdout",
     "output_type": "stream",
     "text": [
      "Episode: 1\n",
      "Step: 1\n",
      "[E| |A| | | | | | |E]\n",
      "Step: 2\n",
      "[E|A| | | | | | | |E]\n",
      "Step: 3\n",
      "[A| | | | | | | | |E]\n",
      "State 0 -> [0, 0]\n",
      "State 1 -> [0.9999999999999996, 0.6657969504198691]\n",
      "State 2 -> [0.832063405527847, 0.5014870681714857]\n",
      "State 3 -> [0.6660987123799685, 0.33884065143873726]\n",
      "State 4 -> [0.5016971802932765, 0.17833444629889003]\n",
      "State 5 -> [0.336739893919903, 0.026982684512468432]\n",
      "State 6 -> [0.11964074382601776, 0.0]\n",
      "State 7 -> [0.004004773961842684, 0.0]\n",
      "State 8 -> [0, 1.0]\n",
      "State 9 -> [0, 0]\n"
     ]
    }
   ],
   "source": [
    "from agents.ExpectedSarsaAgent import ExpectedSarsaAgent\n",
    "\n",
    "\n",
    "test_agent(ExpectedSarsaAgent(environment), environment)"
   ]
  },
  {
   "cell_type": "code",
   "execution_count": 18,
   "metadata": {},
   "outputs": [
    {
     "name": "stdout",
     "output_type": "stream",
     "text": [
      "Episode: 1\n",
      "Step: 1\n",
      "[E| |A| | | | | | |E]\n",
      "Step: 2\n",
      "[E|A| | | | | | | |E]\n",
      "Step: 3\n",
      "[A| | | | | | | | |E]\n",
      "[0, 0.9998072818666339, 0.9985321763186422, 0.9962415188438889, 0.9851234143378529, 0.9615274449073583, 0.8694515262568996, 0, 0, 0]\n"
     ]
    }
   ],
   "source": [
    "from agents.StateValueTemporalDifferenceZeroAgent import StateValueTemporalDifferenceZeroAgent\n",
    "\n",
    "\n",
    "test_agent(StateValueTemporalDifferenceZeroAgent(environment), environment)"
   ]
  },
  {
   "cell_type": "code",
   "execution_count": 19,
   "metadata": {},
   "outputs": [
    {
     "name": "stdout",
     "output_type": "stream",
     "text": [
      "Episode: 1\n",
      "Step: 1\n",
      "[E| | | |A| | | | |E]\n",
      "Step: 2\n",
      "[E| | | | |A| | | |E]\n",
      "Step: 3\n",
      "[E| | | | | |A| | |E]\n",
      "Step: 4\n",
      "[E| | | | | | |A| |E]\n",
      "Step: 5\n",
      "[E| | | | | | | |A|E]\n",
      "Step: 6\n",
      "[E| | | | | | | | |A]\n",
      "State 0 -> [0, 0]\n",
      "State 1 -> [0.9999999999999998, 9.035702540740143]\n",
      "State 2 -> [7.489793806949448, 9.373584014740874]\n",
      "State 3 -> [8.986599619412077, 9.880727024747308]\n",
      "State 4 -> [9.489377457516698, 9.846134975486155]\n",
      "State 5 -> [9.872836753165023, 9.927737789014857]\n",
      "State 6 -> [9.811894774613885, 9.946675969450935]\n",
      "State 7 -> [9.921700882240382, 9.981401244077727]\n",
      "State 8 -> [9.936620402060047, 9.999999999999996]\n",
      "State 9 -> [0, 0]\n"
     ]
    }
   ],
   "source": [
    "from agents.TemporalDifferenceNStepsToExpectedSarsaAgent import TemporalDifferenceNStepsToExpectedSarsaAgent\n",
    "\n",
    "\n",
    "test_agent(TemporalDifferenceNStepsToExpectedSarsaAgent(environment, n_steps=2), environment)"
   ]
  },
  {
   "cell_type": "code",
   "execution_count": 20,
   "metadata": {},
   "outputs": [
    {
     "name": "stdout",
     "output_type": "stream",
     "text": [
      "Episode: 1\n",
      "Step: 1\n",
      "[E| | | |A| | | | |E]\n",
      "Step: 2\n",
      "[E| | | | |A| | | |E]\n",
      "Step: 3\n",
      "[E| | | | | |A| | |E]\n",
      "Step: 4\n",
      "[E| | | | | | |A| |E]\n",
      "Step: 5\n",
      "[E| | | | | | | |A|E]\n",
      "Step: 6\n",
      "[E| | | | | | |A| |E]\n",
      "Step: 7\n",
      "[E| | | | | | | |A|E]\n",
      "Step: 8\n",
      "[E| | | | | | | | |A]\n",
      "State 0 -> [0, 0]\n",
      "State 1 -> [0.94185026299696, 9.010065861359125]\n",
      "State 2 -> [7.88615829277384, 9.930730399847153]\n",
      "State 3 -> [9.025084790776543, 9.932168597221738]\n",
      "State 4 -> [9.924333439316399, 9.947476792233163]\n",
      "State 5 -> [9.934849535518099, 9.962179379680014]\n",
      "State 6 -> [9.951401847588075, 9.976836827790567]\n",
      "State 7 -> [9.96482448468182, 9.989720692768344]\n",
      "State 8 -> [9.976319389419622, 9.999999999999993]\n",
      "State 9 -> [0, 0]\n"
     ]
    }
   ],
   "source": [
    "from agents.MonteCarloAgent import MonteCarloAgent\n",
    "\n",
    "\n",
    "test_agent(MonteCarloAgent(environment), environment)"
   ]
  },
  {
   "cell_type": "code",
   "execution_count": 21,
   "metadata": {},
   "outputs": [
    {
     "name": "stdout",
     "output_type": "stream",
     "text": [
      "Policy improvement stopped at iteration 1\n",
      "Episode: 1\n",
      "Step: 1\n",
      "[E| | | |A| | | | |E]\n",
      "Step: 2\n",
      "[E| | | | |A| | | |E]\n",
      "Step: 3\n",
      "[E| | | | | |A| | |E]\n",
      "Step: 4\n",
      "[E| | | | | | |A| |E]\n",
      "Step: 5\n",
      "[E| | | | | | | |A|E]\n",
      "Step: 6\n",
      "[E| | | | | | | | |A]\n",
      "[1, 1, 1, 1, 1, 1, 1, 1, 1, 0]\n"
     ]
    }
   ],
   "source": [
    "from agents.PolicyIterationAgent import PolicyIterationAgent\n",
    "\n",
    "\n",
    "test_agent(PolicyIterationAgent(environment), environment)\n"
   ]
  },
  {
   "cell_type": "code",
   "execution_count": 22,
   "metadata": {},
   "outputs": [
    {
     "name": "stdout",
     "output_type": "stream",
     "text": [
      "Stopped at iteration 59\n",
      "Episode: 1\n",
      "Step: 1\n",
      "[E| | | |A| | | | |E]\n",
      "Step: 2\n",
      "[E| | | | |A| | | |E]\n",
      "Step: 3\n",
      "[E| | | | | |A| | |E]\n",
      "Step: 4\n",
      "[E| | | | | | |A| |E]\n",
      "Step: 5\n",
      "[E| | | | | | | |A|E]\n",
      "Step: 6\n",
      "[E| | | | | | | | |A]\n",
      "[1, 1, 1, 1, 1, 1, 1, 1, 1, 0]\n"
     ]
    }
   ],
   "source": [
    "from agents.ValueIterationAgent import ValueIterationAgent\n",
    "\n",
    "\n",
    "test_agent(ValueIterationAgent(environment), environment)"
   ]
  },
  {
   "cell_type": "code",
   "execution_count": 23,
   "metadata": {},
   "outputs": [
    {
     "name": "stdout",
     "output_type": "stream",
     "text": [
      "Episode: 1\n",
      "Step: 1\n",
      "[E| | | |A| | | | |E]\n",
      "Step: 2\n",
      "[E| | | | |A| | | |E]\n",
      "Step: 3\n",
      "[E| | | | | |A| | |E]\n",
      "Step: 4\n",
      "[E| | | | | | |A| |E]\n",
      "Step: 5\n",
      "[E| | | | | | | |A|E]\n",
      "Step: 6\n",
      "[E| | | | | | | | |A]\n",
      "State 0 -> [0, 0]\n",
      "State 1 -> [0.5465466457302336, -0.8101884085003228]\n",
      "State 2 -> [0.5197695260196984, -0.19427957577207175]\n",
      "State 3 -> [-6.064847242469583, 1.53629553901449]\n",
      "State 4 -> [-5.664360761176706, 1.3611444355634532]\n",
      "State 5 -> [-5.4252243927969905, 1.3704090417772052]\n",
      "State 6 -> [-5.986583944267739, 1.3560693113344917]\n",
      "State 7 -> [-5.941545700371254, 1.2855091837782888]\n",
      "State 8 -> [-6.036679388247321, 1.1466853850557974]\n",
      "State 9 -> [0, 0]\n"
     ]
    }
   ],
   "source": [
    "from agents.ReinforceAgent import ReinforceAgent\n",
    "\n",
    "\n",
    "test_agent(ReinforceAgent(environment), environment)"
   ]
  },
  {
   "cell_type": "code",
   "execution_count": 24,
   "metadata": {},
   "outputs": [
    {
     "name": "stdout",
     "output_type": "stream",
     "text": [
      "Episode: 1\n",
      "Step: 1\n",
      "[E| | | |A| | | | |E]\n",
      "Step: 2\n",
      "[E| | | | |A| | | |E]\n",
      "Step: 3\n",
      "[E| | | | | |A| | |E]\n",
      "Step: 4\n",
      "[E| | | | | | |A| |E]\n",
      "Step: 5\n",
      "[E| | | | | | | |A|E]\n",
      "Step: 6\n",
      "[E| | | | | | | | |A]\n",
      "State 0 -> [0, 0]\n",
      "State 1 -> [0.6812128027269165, -0.4731923815960223]\n",
      "State 2 -> [0.4450555195044099, 1.3335250540598789]\n",
      "State 3 -> [-6.459937859359032, 1.4663415437666654]\n",
      "State 4 -> [-5.232755227072414, 1.5493721575158632]\n",
      "State 5 -> [-5.427695691316838, 1.682875632263143]\n",
      "State 6 -> [-5.052977068062827, 1.7969206424469935]\n",
      "State 7 -> [-4.858130925880842, 1.8796191886763731]\n",
      "State 8 -> [-4.812479519720346, 2.032391272947865]\n",
      "State 9 -> [0, 0]\n"
     ]
    }
   ],
   "source": [
    "from agents.ActorCriticAgent import ActorCriticAgent\n",
    "\n",
    "\n",
    "test_agent(ActorCriticAgent(environment), environment)"
   ]
  }
 ],
 "metadata": {
  "kernelspec": {
   "display_name": ".venv",
   "language": "python",
   "name": "python3"
  },
  "language_info": {
   "codemirror_mode": {
    "name": "ipython",
    "version": 3
   },
   "file_extension": ".py",
   "mimetype": "text/x-python",
   "name": "python",
   "nbconvert_exporter": "python",
   "pygments_lexer": "ipython3",
   "version": "3.12.0"
  }
 },
 "nbformat": 4,
 "nbformat_minor": 2
}
