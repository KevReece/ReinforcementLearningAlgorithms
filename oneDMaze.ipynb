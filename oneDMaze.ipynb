{
 "cells": [
  {
   "cell_type": "code",
   "execution_count": 1,
   "metadata": {},
   "outputs": [],
   "source": [
    "from agents.AbstractAgent import AbstractAgent\n",
    "from environments.AbstractEnvironment import AbstractEnvironment\n",
    "from environments.OneDMazeEnvironment import OneDMazeEnvironment\n",
    "from environments.Runner import Runner\n",
    "\n",
    "\n",
    "def test_agent(agent: AbstractAgent, environment: AbstractEnvironment):\n",
    "    environment.reset()\n",
    "    runner = Runner(agent)\n",
    "    runner.run(environment, n_episodes=10000, learn=True)\n",
    "    runner.run(environment, n_episodes=1, verbose=True, learn=False)\n",
    "    agent.print()\n",
    "    \n",
    "# Single goal\n",
    "# environment = OneDMazeEnvironment(initial_agent_position=1, n_states=10, exits=[9], initial_state_rewards={9: 10})\n",
    "    \n",
    "# Duel goal\n",
    "environment = OneDMazeEnvironment(initial_agent_position=3, n_states=10, exits=[0,9], initial_state_rewards={0:1, 9:10})"
   ]
  },
  {
   "cell_type": "code",
   "execution_count": 2,
   "metadata": {},
   "outputs": [
    {
     "name": "stdout",
     "output_type": "stream",
     "text": [
      "Episode: 1\n",
      "Step: 1\n",
      "[E| | | |A| | | | |E]\n",
      "Step: 2\n",
      "[E| | |A| | | | | |E]\n",
      "Step: 3\n",
      "[E| |A| | | | | | |E]\n",
      "Step: 4\n",
      "[E|A| | | | | | | |E]\n",
      "Step: 5\n",
      "[A| | | | | | | | |E]\n",
      "State 0 -> [0, 0]\n",
      "State 1 -> [0.9999999999999996, 0.9980009999999986]\n",
      "State 2 -> [0.998999999999999, 0.997002998999998]\n",
      "State 3 -> [0.9980009999999986, 0.9960059960009975]\n",
      "State 4 -> [0.997002998999998, 0.9949889677287386]\n",
      "State 5 -> [0.9960043388638363, 0.4677862142525396]\n",
      "State 6 -> [0.7588352995264407, 0.0854288856]\n",
      "State 7 -> [0.0, 0.8137854]\n",
      "State 8 -> [0, 4.0951]\n",
      "State 9 -> [0, 0]\n"
     ]
    }
   ],
   "source": [
    "from agents.QLearningAgent import QLearningAgent\n",
    "\n",
    "\n",
    "test_agent(QLearningAgent(environment), environment)"
   ]
  },
  {
   "cell_type": "code",
   "execution_count": 3,
   "metadata": {},
   "outputs": [
    {
     "name": "stdout",
     "output_type": "stream",
     "text": [
      "Episode: 1\n",
      "Step: 1\n",
      "[E| |A| | | | | | |E]\n",
      "Step: 2\n",
      "[E|A| | | | | | | |E]\n",
      "Step: 3\n",
      "[E| |A| | | | | | |E]\n",
      "Step: 4\n",
      "[E| | |A| | | | | |E]\n",
      "Step: 5\n",
      "[E| | | |A| | | | |E]\n",
      "Step: 6\n",
      "[E| | |A| | | | | |E]\n",
      "Step: 7\n",
      "[E| | | |A| | | | |E]\n",
      "Step: 8\n",
      "[E| | | | |A| | | |E]\n",
      "Step: 9\n",
      "[E| | | |A| | | | |E]\n",
      "Step: 10\n",
      "[E| | | | |A| | | |E]\n",
      "Step: 11\n",
      "[E| | | | | |A| | |E]\n",
      "Step: 12\n",
      "[E| | | | | | |A| |E]\n",
      "Step: 13\n",
      "[E| | | | | | | |A|E]\n",
      "Step: 14\n",
      "[E| | | | | | | | |A]\n",
      "State 0 -> [0, 0]\n",
      "State 1 -> [0.9999999999999996, 9.930209650349724]\n",
      "State 2 -> [9.920279440699368, 9.940149800149882]\n",
      "State 3 -> [9.930209650349724, 9.950099900049942]\n",
      "State 4 -> [9.940149800149882, 9.96005996000996]\n",
      "State 5 -> [9.950099900049942, 9.970029989999968]\n",
      "State 6 -> [9.96005996000996, 9.980009999999975]\n",
      "State 7 -> [9.970029989999968, 9.989999999999984]\n",
      "State 8 -> [9.980009999999975, 9.999999999999993]\n",
      "State 9 -> [0, 0]\n",
      "State 0 -> [0, 0]\n",
      "State 1 -> [0.9999999999999996, 9.930209650349724]\n",
      "State 2 -> [9.920279440699368, 9.940149800149882]\n",
      "State 3 -> [9.930209650349724, 9.950099900049942]\n",
      "State 4 -> [9.940149800149882, 9.96005996000996]\n",
      "State 5 -> [9.950099900049942, 9.970029989999968]\n",
      "State 6 -> [9.96005996000996, 9.980009999999975]\n",
      "State 7 -> [9.970029989999968, 9.989999999999984]\n",
      "State 8 -> [9.980009999999975, 9.999999999999993]\n",
      "State 9 -> [0, 0]\n"
     ]
    }
   ],
   "source": [
    "from agents.DoubleQLearningAgent import DoubleQLearningAgent\n",
    "\n",
    "\n",
    "test_agent(DoubleQLearningAgent(environment), environment)"
   ]
  },
  {
   "cell_type": "code",
   "execution_count": 4,
   "metadata": {},
   "outputs": [
    {
     "name": "stdout",
     "output_type": "stream",
     "text": [
      "Episode: 1\n",
      "Step: 1\n",
      "[E| | | |A| | | | |E]\n",
      "Step: 2\n",
      "[E| | | | |A| | | |E]\n",
      "Step: 3\n",
      "[E| | | |A| | | | |E]\n",
      "Step: 4\n",
      "[E| | | | |A| | | |E]\n",
      "Step: 5\n",
      "[E| | | |A| | | | |E]\n",
      "Step: 6\n",
      "[E| | | | |A| | | |E]\n",
      "Step: 7\n",
      "[E| | | |A| | | | |E]\n",
      "Step: 8\n",
      "[E| | | | |A| | | |E]\n",
      "Step: 9\n",
      "[E| | | |A| | | | |E]\n",
      "Step: 10\n",
      "[E| | |A| | | | | |E]\n",
      "Step: 11\n",
      "[E| |A| | | | | | |E]\n",
      "Step: 12\n",
      "[E|A| | | | | | | |E]\n",
      "Step: 13\n",
      "[E| |A| | | | | | |E]\n",
      "Step: 14\n",
      "[E| | |A| | | | | |E]\n",
      "Step: 15\n",
      "[E| |A| | | | | | |E]\n",
      "Step: 16\n",
      "[E| | |A| | | | | |E]\n",
      "Step: 17\n",
      "[E| |A| | | | | | |E]\n",
      "Step: 18\n",
      "[E| | |A| | | | | |E]\n",
      "Step: 19\n",
      "[E| | | |A| | | | |E]\n",
      "Step: 20\n",
      "[E| | | | |A| | | |E]\n",
      "Step: 21\n",
      "[E| | | | | |A| | |E]\n",
      "Step: 22\n",
      "[E| | | | |A| | | |E]\n",
      "Step: 23\n",
      "[E| | | | | |A| | |E]\n",
      "Step: 24\n",
      "[E| | | | | | |A| |E]\n",
      "Step: 25\n",
      "[E| | | | | |A| | |E]\n",
      "Step: 26\n",
      "[E| | | | |A| | | |E]\n",
      "Step: 27\n",
      "[E| | | |A| | | | |E]\n",
      "Step: 28\n",
      "[E| | | | |A| | | |E]\n",
      "Step: 29\n",
      "[E| | | |A| | | | |E]\n",
      "Step: 30\n",
      "[E| | | | |A| | | |E]\n",
      "Step: 31\n",
      "[E| | | | | |A| | |E]\n",
      "Step: 32\n",
      "[E| | | | |A| | | |E]\n",
      "Step: 33\n",
      "[E| | | |A| | | | |E]\n",
      "Step: 34\n",
      "[E| | |A| | | | | |E]\n",
      "Step: 35\n",
      "[E| | | |A| | | | |E]\n",
      "Step: 36\n",
      "[E| | | | |A| | | |E]\n",
      "Step: 37\n",
      "[E| | | |A| | | | |E]\n",
      "Step: 38\n",
      "[E| | | | |A| | | |E]\n",
      "Step: 39\n",
      "[E| | | |A| | | | |E]\n",
      "Step: 40\n",
      "[E| | |A| | | | | |E]\n",
      "Step: 41\n",
      "[E| | | |A| | | | |E]\n",
      "Step: 42\n",
      "[E| | |A| | | | | |E]\n",
      "Step: 43\n",
      "[E| | | |A| | | | |E]\n",
      "Step: 44\n",
      "[E| | |A| | | | | |E]\n",
      "Step: 45\n",
      "[E| |A| | | | | | |E]\n",
      "Step: 46\n",
      "[E| | |A| | | | | |E]\n",
      "Step: 47\n",
      "[E| | | |A| | | | |E]\n",
      "Step: 48\n",
      "[E| | | | |A| | | |E]\n",
      "Step: 49\n",
      "[E| | | |A| | | | |E]\n",
      "Step: 50\n",
      "[E| | | | |A| | | |E]\n",
      "Step: 51\n",
      "[E| | | |A| | | | |E]\n",
      "Step: 52\n",
      "[E| | |A| | | | | |E]\n",
      "Step: 53\n",
      "[E| |A| | | | | | |E]\n",
      "Step: 54\n",
      "[E| | |A| | | | | |E]\n",
      "Step: 55\n",
      "[E| | | |A| | | | |E]\n",
      "Step: 56\n",
      "[E| | | | |A| | | |E]\n",
      "Step: 57\n",
      "[E| | | |A| | | | |E]\n",
      "Step: 58\n",
      "[E| | |A| | | | | |E]\n",
      "Step: 59\n",
      "[E| | | |A| | | | |E]\n",
      "Step: 60\n",
      "[E| | | | |A| | | |E]\n",
      "Step: 61\n",
      "[E| | | | | |A| | |E]\n",
      "Step: 62\n",
      "[E| | | | |A| | | |E]\n",
      "Step: 63\n",
      "[E| | | |A| | | | |E]\n",
      "Step: 64\n",
      "[E| | | | |A| | | |E]\n",
      "Step: 65\n",
      "[E| | | |A| | | | |E]\n",
      "Step: 66\n",
      "[E| | |A| | | | | |E]\n",
      "Step: 67\n",
      "[E| |A| | | | | | |E]\n",
      "Step: 68\n",
      "[E|A| | | | | | | |E]\n",
      "Step: 69\n",
      "[A| | | | | | | | |E]\n",
      "State 0 -> [0, 0]\n",
      "State 1 -> [0, 0.0]\n",
      "State 2 -> [0.0, 0.0]\n",
      "State 3 -> [0.0, 0.0]\n",
      "State 4 -> [0.0, 0.0]\n",
      "State 5 -> [0.0, 0.0]\n",
      "State 6 -> [0.0, 0.0]\n",
      "State 7 -> [0.0, 0.0]\n",
      "State 8 -> [0.0, 0]\n",
      "State 9 -> [0, 0]\n"
     ]
    }
   ],
   "source": [
    "from agents.SarsaAgent import SarsaAgent\n",
    "\n",
    "\n",
    "test_agent(SarsaAgent(environment), environment)"
   ]
  },
  {
   "cell_type": "code",
   "execution_count": 5,
   "metadata": {},
   "outputs": [
    {
     "name": "stdout",
     "output_type": "stream",
     "text": [
      "Episode: 1\n",
      "Step: 1\n",
      "[E| |A| | | | | | |E]\n",
      "Step: 2\n",
      "[E|A| | | | | | | |E]\n",
      "Step: 3\n",
      "[A| | | | | | | | |E]\n",
      "State 0 -> [0, 0]\n",
      "State 1 -> [0.9999999999999996, 0.6803993983044301]\n",
      "State 2 -> [0.8392373496483202, 0.5257792209634155]\n",
      "State 3 -> [0.6817401168109373, 0.3741335527308072]\n",
      "State 4 -> [0.5263188169828913, 0.2260753076108486]\n",
      "State 5 -> [0.3648539974291689, 0.10900039063502259]\n",
      "State 6 -> [0.021117190365383662, 0.5629150631111393]\n",
      "State 7 -> [0.0010667932089300002, 2.497808269286612]\n",
      "State 8 -> [0.03740207654438606, 8.146979811148158]\n",
      "State 9 -> [0, 0]\n"
     ]
    }
   ],
   "source": [
    "from agents.ExpectedSarsaAgent import ExpectedSarsaAgent\n",
    "\n",
    "\n",
    "test_agent(ExpectedSarsaAgent(environment), environment)"
   ]
  },
  {
   "cell_type": "code",
   "execution_count": 7,
   "metadata": {},
   "outputs": [
    {
     "name": "stdout",
     "output_type": "stream",
     "text": [
      "Episode: 1\n",
      "Step: 1\n",
      "[E| | | |A| | | | |E]\n",
      "Step: 2\n",
      "[E| | |A| | | | | |E]\n",
      "Step: 3\n",
      "[E| |A| | | | | | |E]\n",
      "Step: 4\n",
      "[E|A| | | | | | | |E]\n",
      "Step: 5\n",
      "[A| | | | | | | | |E]\n",
      "[0, 0.999595127969284, 0.9985370872001067, 0.9965678165084398, 0.9953923184948297, 0.9926454398219872, 0.749194073275447, 0.12971498429558279, 0, 0]\n"
     ]
    }
   ],
   "source": [
    "from agents.StateValueTemporalDifferenceZeroAgent import StateValueTemporalDifferenceZeroAgent\n",
    "\n",
    "\n",
    "test_agent(StateValueTemporalDifferenceZeroAgent(environment), environment)"
   ]
  },
  {
   "cell_type": "code",
   "execution_count": 8,
   "metadata": {},
   "outputs": [
    {
     "name": "stdout",
     "output_type": "stream",
     "text": [
      "Episode: 1\n",
      "Step: 1\n",
      "[E| | | |A| | | | |E]\n",
      "Step: 2\n",
      "[E| | | | |A| | | |E]\n",
      "Step: 3\n",
      "[E| | | | | |A| | |E]\n",
      "Step: 4\n",
      "[E| | | | | | |A| |E]\n",
      "Step: 5\n",
      "[E| | | | | | | |A|E]\n",
      "Step: 6\n",
      "[E| | | | | | |A| |E]\n",
      "Step: 7\n",
      "[E| | | | | | | |A|E]\n",
      "Step: 8\n",
      "[E| | | | | | | | |A]\n",
      "State 0 -> [0, 0]\n",
      "State 1 -> [0.9999999999999998, 8.139905203869962]\n",
      "State 2 -> [9.502497348172666, 9.841130073439558]\n",
      "State 3 -> [8.278544580639526, 9.744222451521148]\n",
      "State 4 -> [9.857554377195349, 9.907500395119886]\n",
      "State 5 -> [9.637900902515376, 9.915243041860611]\n",
      "State 6 -> [9.904549353792065, 9.955983920908196]\n",
      "State 7 -> [9.893983879991985, 9.984874673681837]\n",
      "State 8 -> [9.952426830357428, 9.999999999999996]\n",
      "State 9 -> [0, 0]\n"
     ]
    }
   ],
   "source": [
    "from agents.TemporalDifferenceNStepsToExpectedSarsaAgent import TemporalDifferenceNStepsToExpectedSarsaAgent\n",
    "\n",
    "\n",
    "test_agent(TemporalDifferenceNStepsToExpectedSarsaAgent(environment, n_steps=2), environment)"
   ]
  },
  {
   "cell_type": "code",
   "execution_count": 9,
   "metadata": {},
   "outputs": [
    {
     "name": "stdout",
     "output_type": "stream",
     "text": [
      "Episode: 1\n",
      "Step: 1\n",
      "[E| | | |A| | | | |E]\n",
      "Step: 2\n",
      "[E| | | | |A| | | |E]\n",
      "Step: 3\n",
      "[E| | | | | |A| | |E]\n",
      "Step: 4\n",
      "[E| | | | | | |A| |E]\n",
      "Step: 5\n",
      "[E| | | | | | | |A|E]\n",
      "Step: 6\n",
      "[E| | | | | | | | |A]\n",
      "State 0 -> [0, 0]\n",
      "State 1 -> [0.9993734212517822, 8.569457213874806]\n",
      "State 2 -> [8.228028313938871, 9.930642074632493]\n",
      "State 3 -> [9.917625726107419, 9.939261444093342]\n",
      "State 4 -> [9.926903253818299, 9.949898636197593]\n",
      "State 5 -> [9.94032319042275, 9.961502257598678]\n",
      "State 6 -> [9.949964076519729, 9.974616451430016]\n",
      "State 7 -> [9.958279124650357, 9.98817378678215]\n",
      "State 8 -> [9.974652215904126, 9.999999999999993]\n",
      "State 9 -> [0, 0]\n"
     ]
    }
   ],
   "source": [
    "from agents.MonteCarloAgent import MonteCarloAgent\n",
    "\n",
    "\n",
    "test_agent(MonteCarloAgent(environment), environment)"
   ]
  },
  {
   "cell_type": "code",
   "execution_count": 10,
   "metadata": {},
   "outputs": [
    {
     "name": "stdout",
     "output_type": "stream",
     "text": [
      "Policy improvement stopped at iteration 1\n",
      "Episode: 1\n",
      "Step: 1\n",
      "[E| | | |A| | | | |E]\n",
      "Step: 2\n",
      "[E| | | | |A| | | |E]\n",
      "Step: 3\n",
      "[E| | | | | |A| | |E]\n",
      "Step: 4\n",
      "[E| | | | | | |A| |E]\n",
      "Step: 5\n",
      "[E| | | | | | | |A|E]\n",
      "Step: 6\n",
      "[E| | | | | | | | |A]\n",
      "[1, 1, 1, 1, 1, 1, 1, 1, 1, 0]\n"
     ]
    }
   ],
   "source": [
    "from agents.PolicyIterationAgent import PolicyIterationAgent\n",
    "\n",
    "\n",
    "test_agent(PolicyIterationAgent(environment), environment)\n"
   ]
  },
  {
   "cell_type": "code",
   "execution_count": 11,
   "metadata": {},
   "outputs": [
    {
     "name": "stdout",
     "output_type": "stream",
     "text": [
      "Stopped at iteration 59\n",
      "Episode: 1\n",
      "Step: 1\n",
      "[E| | | |A| | | | |E]\n",
      "Step: 2\n",
      "[E| | | | |A| | | |E]\n",
      "Step: 3\n",
      "[E| | | | | |A| | |E]\n",
      "Step: 4\n",
      "[E| | | | | | |A| |E]\n",
      "Step: 5\n",
      "[E| | | | | | | |A|E]\n",
      "Step: 6\n",
      "[E| | | | | | | | |A]\n",
      "[1, 1, 1, 1, 1, 1, 1, 1, 1, 0]\n"
     ]
    }
   ],
   "source": [
    "from agents.ValueIterationAgent import ValueIterationAgent\n",
    "\n",
    "\n",
    "test_agent(ValueIterationAgent(environment), environment)"
   ]
  },
  {
   "cell_type": "code",
   "execution_count": 12,
   "metadata": {},
   "outputs": [
    {
     "name": "stdout",
     "output_type": "stream",
     "text": [
      "Episode: 1\n",
      "Step: 1\n",
      "[E| | | |A| | | | |E]\n",
      "Step: 2\n",
      "[E| | | | |A| | | |E]\n",
      "Step: 3\n",
      "[E| | | | | |A| | |E]\n",
      "Step: 4\n",
      "[E| | | | | | |A| |E]\n",
      "Step: 5\n",
      "[E| | | | | | | |A|E]\n",
      "Step: 6\n",
      "[E| | | | | | | | |A]\n",
      "State 0 -> [0, 0]\n",
      "State 1 -> [0.45136199999035753, -0.5977894611635518]\n",
      "State 2 -> [0.43569681990286063, -0.06256724085775861]\n",
      "State 3 -> [-5.382157627697146, 1.4572918209964183]\n",
      "State 4 -> [-5.2326832365918925, 1.301908455319819]\n",
      "State 5 -> [-5.545040337854998, 1.3534469194920289]\n",
      "State 6 -> [-5.757899493344512, 1.3343191680823325]\n",
      "State 7 -> [-5.629971230312743, 1.3128949654759934]\n",
      "State 8 -> [-6.7356343159128675, 1.0928213742602313]\n",
      "State 9 -> [0, 0]\n"
     ]
    }
   ],
   "source": [
    "from agents.ReinforceAgent import ReinforceAgent\n",
    "\n",
    "\n",
    "test_agent(ReinforceAgent(environment), environment)"
   ]
  },
  {
   "cell_type": "code",
   "execution_count": 13,
   "metadata": {},
   "outputs": [
    {
     "name": "stdout",
     "output_type": "stream",
     "text": [
      "Episode: 1\n",
      "Step: 1\n",
      "[E| | | |A| | | | |E]\n",
      "Step: 2\n",
      "[E| | | | |A| | | |E]\n",
      "Step: 3\n",
      "[E| | | | | |A| | |E]\n",
      "Step: 4\n",
      "[E| | | | | | |A| |E]\n",
      "Step: 5\n",
      "[E| | | | | | | |A|E]\n",
      "Step: 6\n",
      "[E| | | | | | | | |A]\n",
      "State 0 -> [0, 0]\n",
      "State 1 -> [0.6977280075998452, -0.6808598639474827]\n",
      "State 2 -> [0.565643009374593, -0.3114790255690945]\n",
      "State 3 -> [-5.65202937747735, 1.6372289008250123]\n",
      "State 4 -> [-5.1219010535742955, 1.5000738803452576]\n",
      "State 5 -> [-5.744841607466921, 1.6012584594701442]\n",
      "State 6 -> [-5.5398293505622895, 1.5576599679842127]\n",
      "State 7 -> [-5.182222524717516, 1.6293198728837037]\n",
      "State 8 -> [-5.015350028650485, 2.273472709509855]\n",
      "State 9 -> [0, 0]\n"
     ]
    }
   ],
   "source": [
    "from agents.ActorCriticAgent import ActorCriticAgent\n",
    "\n",
    "\n",
    "test_agent(ActorCriticAgent(environment), environment)"
   ]
  }
 ],
 "metadata": {
  "kernelspec": {
   "display_name": ".venv",
   "language": "python",
   "name": "python3"
  },
  "language_info": {
   "codemirror_mode": {
    "name": "ipython",
    "version": 3
   },
   "file_extension": ".py",
   "mimetype": "text/x-python",
   "name": "python",
   "nbconvert_exporter": "python",
   "pygments_lexer": "ipython3",
   "version": "3.12.0"
  }
 },
 "nbformat": 4,
 "nbformat_minor": 2
}
